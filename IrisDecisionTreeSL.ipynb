{
 "cells": [
  {
   "cell_type": "markdown",
   "metadata": {},
   "source": [
    "# iris CART using DecisionTree.jl\n",
    "Loading packages that we will use"
   ]
  },
  {
   "cell_type": "code",
   "execution_count": 1,
   "metadata": {},
   "outputs": [],
   "source": [
    "using DecisionTree\n",
    "using Random, Statistics\n",
    "using DataFrames"
   ]
  },
  {
   "cell_type": "markdown",
   "metadata": {},
   "source": [
    "Loading Data (Iris dataset)"
   ]
  },
  {
   "cell_type": "code",
   "execution_count": 2,
   "metadata": {},
   "outputs": [],
   "source": [
    "X, y = load_data(\"iris\")\n",
    "DF1 = DataFrame(X, :auto)\n",
    "DF2 = DataFrame(\"Type\" => y )\n",
    "DF = DataFrame(x1 = float.(DF1[!,1]),\n",
    "x2 = float.(DF1[!,2]),\n",
    "x3 = float.(DF1[!,3]),\n",
    "x4 = float.(DF1[!,4]),\n",
    "y = string.(DF2[!,1]));\n",
    "Matrix(DF[!,1:4]);\n"
   ]
  },
  {
   "cell_type": "markdown",
   "metadata": {},
   "source": [
    "Now using pycall to split data into training and testing sets"
   ]
  },
  {
   "cell_type": "code",
   "execution_count": 3,
   "metadata": {},
   "outputs": [],
   "source": [
    "using PyCall\n",
    "ModelSelection = pyimport(\"sklearn.model_selection\")\n",
    "X_train, X_test, y_train, y_test =\n",
    " ModelSelection.train_test_split(Matrix(DF[!,1:4]),DF[!,5]);"
   ]
  },
  {
   "cell_type": "markdown",
   "metadata": {},
   "source": [
    "Decision Tree"
   ]
  },
  {
   "cell_type": "code",
   "execution_count": 4,
   "metadata": {},
   "outputs": [
    {
     "name": "stdout",
     "output_type": "stream",
     "text": [
      "Feature 3 < 2.6 ?\n",
      "├─ Iris-setosa : 38/38\n",
      "└─ Feature 3 < 4.75 ?\n",
      "    ├─ Iris-versicolor : 36/36\n",
      "    └─ Iris-virginica : 35/38\n"
     ]
    }
   ],
   "source": [
    "model = DecisionTreeClassifier(max_depth = 2);\n",
    "fit!(model, X_train, y_train);\n",
    "#Printting the tree\n",
    "print_tree(model)"
   ]
  },
  {
   "cell_type": "code",
   "execution_count": 5,
   "metadata": {},
   "outputs": [],
   "source": [
    "train = [X_train y_train]\n",
    "# view decision node data subset\n",
    "\n",
    "train_R = train[train[:, 4] .> 0.8, :];\n"
   ]
  },
  {
   "cell_type": "markdown",
   "metadata": {},
   "source": [
    "Ready to make some predictions"
   ]
  },
  {
   "cell_type": "code",
   "execution_count": 6,
   "metadata": {},
   "outputs": [
    {
     "data": {
      "text/plain": [
       "0.8947368421052632"
      ]
     },
     "execution_count": 6,
     "metadata": {},
     "output_type": "execute_result"
    }
   ],
   "source": [
    "y_hat = predict(model, X_test)\n",
    "#and checking the accuracy\n",
    "accuracy = mean(y_hat .== y_test)"
   ]
  },
  {
   "cell_type": "markdown",
   "metadata": {},
   "source": [
    "Let's see where the model get confussed"
   ]
  },
  {
   "cell_type": "code",
   "execution_count": 7,
   "metadata": {},
   "outputs": [
    {
     "data": {
      "text/plain": [
       "3×3 Matrix{Int64}:\n",
       " 12  0   0\n",
       "  0  8   3\n",
       "  0  1  14"
      ]
     },
     "metadata": {},
     "output_type": "display_data"
    },
    {
     "data": {
      "text/plain": [
       "Classes:  [\"Iris-setosa\", \"Iris-versicolor\", \"Iris-virginica\"]\n",
       "Matrix:   \n",
       "Accuracy: 0.8947368421052632\n",
       "Kappa:    0.8393234672304438"
      ]
     },
     "execution_count": 7,
     "metadata": {},
     "output_type": "execute_result"
    }
   ],
   "source": [
    "DecisionTree.confusion_matrix(y_test,y_hat)"
   ]
  },
  {
   "cell_type": "markdown",
   "metadata": {},
   "source": [
    "Display results"
   ]
  },
  {
   "cell_type": "code",
   "execution_count": 8,
   "metadata": {},
   "outputs": [
    {
     "data": {
      "text/plain": [
       "38×3 Matrix{Any}:\n",
       " \"Iris-setosa\"      \"Iris-setosa\"       true\n",
       " \"Iris-versicolor\"  \"Iris-virginica\"   false\n",
       " \"Iris-versicolor\"  \"Iris-versicolor\"   true\n",
       " \"Iris-setosa\"      \"Iris-setosa\"       true\n",
       " \"Iris-versicolor\"  \"Iris-versicolor\"   true\n",
       " \"Iris-versicolor\"  \"Iris-versicolor\"   true\n",
       " \"Iris-virginica\"   \"Iris-virginica\"    true\n",
       " \"Iris-versicolor\"  \"Iris-versicolor\"   true\n",
       " \"Iris-setosa\"      \"Iris-setosa\"       true\n",
       " \"Iris-virginica\"   \"Iris-virginica\"    true\n",
       " \"Iris-virginica\"   \"Iris-virginica\"    true\n",
       " \"Iris-virginica\"   \"Iris-virginica\"    true\n",
       " \"Iris-virginica\"   \"Iris-versicolor\"  false\n",
       " ⋮                                     \n",
       " \"Iris-virginica\"   \"Iris-virginica\"    true\n",
       " \"Iris-virginica\"   \"Iris-versicolor\"  false\n",
       " \"Iris-setosa\"      \"Iris-setosa\"       true\n",
       " \"Iris-setosa\"      \"Iris-setosa\"       true\n",
       " \"Iris-setosa\"      \"Iris-setosa\"       true\n",
       " \"Iris-versicolor\"  \"Iris-versicolor\"   true\n",
       " \"Iris-setosa\"      \"Iris-setosa\"       true\n",
       " \"Iris-versicolor\"  \"Iris-versicolor\"   true\n",
       " \"Iris-virginica\"   \"Iris-virginica\"    true\n",
       " \"Iris-virginica\"   \"Iris-virginica\"    true\n",
       " \"Iris-setosa\"      \"Iris-setosa\"       true\n",
       " \"Iris-virginica\"   \"Iris-virginica\"    true"
      ]
     },
     "execution_count": 8,
     "metadata": {},
     "output_type": "execute_result"
    }
   ],
   "source": [
    "check = [y_hat[i] == y_test[i] for i in 1:length(y_hat)]\n",
    "check_display = [y_hat y_test check]"
   ]
  },
  {
   "cell_type": "markdown",
   "metadata": {},
   "source": [
    "Display probability of each prediction"
   ]
  },
  {
   "cell_type": "code",
   "execution_count": 9,
   "metadata": {},
   "outputs": [
    {
     "data": {
      "text/plain": [
       "38×3 Matrix{Float64}:\n",
       " 1.0  0.0        0.0\n",
       " 1.0  0.0        0.0\n",
       " 1.0  0.0        0.0\n",
       " 1.0  0.0        0.0\n",
       " 1.0  0.0        0.0\n",
       " 1.0  0.0        0.0\n",
       " 1.0  0.0        0.0\n",
       " 1.0  0.0        0.0\n",
       " 1.0  0.0        0.0\n",
       " 1.0  0.0        0.0\n",
       " 1.0  0.0        0.0\n",
       " 1.0  0.0        0.0\n",
       " 0.0  1.0        0.0\n",
       " ⋮               \n",
       " 0.0  0.0789474  0.921053\n",
       " 0.0  0.0789474  0.921053\n",
       " 0.0  0.0789474  0.921053\n",
       " 0.0  0.0789474  0.921053\n",
       " 0.0  0.0789474  0.921053\n",
       " 0.0  0.0789474  0.921053\n",
       " 0.0  0.0789474  0.921053\n",
       " 0.0  0.0789474  0.921053\n",
       " 0.0  0.0789474  0.921053\n",
       " 0.0  0.0789474  0.921053\n",
       " 0.0  0.0789474  0.921053\n",
       " 0.0  0.0789474  0.921053"
      ]
     },
     "metadata": {},
     "output_type": "display_data"
    }
   ],
   "source": [
    "prob = predict_proba(model, sort(X_test,dims = 1))\n",
    "display(prob)"
   ]
  },
  {
   "cell_type": "markdown",
   "metadata": {},
   "source": [
    "We can improve our predicition but it will come with the Bias-variance tradeoff.\\\n",
    "Ensemble learning for improve decision tree,they are two different techniques, one is Bagging, the other is Boosting.  "
   ]
  },
  {
   "cell_type": "markdown",
   "metadata": {},
   "source": [
    "## Random Forest\n",
    "Example of the Bagging technique, it reduces the variance of the model (Increase independecy of the features or Increase number of models) but you get slightly higher bias."
   ]
  },
  {
   "cell_type": "code",
   "execution_count": 10,
   "metadata": {},
   "outputs": [
    {
     "data": {
      "text/plain": [
       "3×3 Matrix{Int64}:\n",
       " 12   0   0\n",
       "  0  10   1\n",
       "  0   2  13"
      ]
     },
     "metadata": {},
     "output_type": "display_data"
    },
    {
     "name": "stdout",
     "output_type": "stream",
     "text": [
      "DecisionTree.confusion_matrix(y_test, ŷ) = Classes:  [\"Iris-setosa\", \"Iris-versicolor\", \"Iris-virginica\"]\n",
      "Matrix:   \n",
      "Accuracy: 0.9210526315789473\n",
      "Kappa:    0.8810020876826722\n"
     ]
    },
    {
     "data": {
      "text/plain": [
       "38×3 Matrix{Float64}:\n",
       " 1.0  0.0  0.0\n",
       " 1.0  0.0  0.0\n",
       " 1.0  0.0  0.0\n",
       " 1.0  0.0  0.0\n",
       " 1.0  0.0  0.0\n",
       " 1.0  0.0  0.0\n",
       " 1.0  0.0  0.0\n",
       " 1.0  0.0  0.0\n",
       " 1.0  0.0  0.0\n",
       " 1.0  0.0  0.0\n",
       " 1.0  0.0  0.0\n",
       " 1.0  0.0  0.0\n",
       " 0.0  1.0  0.0\n",
       " ⋮         \n",
       " 0.0  0.0  1.0\n",
       " 0.0  0.0  1.0\n",
       " 0.0  0.0  1.0\n",
       " 0.0  0.0  1.0\n",
       " 0.0  0.0  1.0\n",
       " 0.0  0.0  1.0\n",
       " 0.0  0.0  1.0\n",
       " 0.0  0.0  1.0\n",
       " 0.0  0.0  1.0\n",
       " 0.0  0.0  1.0\n",
       " 0.0  0.0  1.0\n",
       " 0.0  0.0  1.0"
      ]
     },
     "execution_count": 10,
     "metadata": {},
     "output_type": "execute_result"
    }
   ],
   "source": [
    "#Creating a random forest with 20 trees\n",
    "model1 = RandomForestClassifier(n_trees = 20);\n",
    "fit!(model1, X_train, y_train)\n",
    "#making predicitions\n",
    "ŷ = predict(model1, X_test)\n",
    "#checking accuracy \n",
    "accuracy1 = mean(y_test .== ŷ)\n",
    "#confusion matrix\n",
    "@show DecisionTree.confusion_matrix(y_test, ŷ)\n",
    "#checking the probability\n",
    "prob1 = predict_proba(model1, sort(X_test, dims = 1))"
   ]
  },
  {
   "cell_type": "markdown",
   "metadata": {},
   "source": [
    "## AdaBoost\n",
    "Technique of Boosting in ensemble learning where usually lower the bias"
   ]
  },
  {
   "cell_type": "code",
   "execution_count": 11,
   "metadata": {},
   "outputs": [
    {
     "data": {
      "text/plain": [
       "3×3 Matrix{Int64}:\n",
       " 12  0   0\n",
       "  0  9   2\n",
       "  0  1  14"
      ]
     },
     "metadata": {},
     "output_type": "display_data"
    },
    {
     "name": "stdout",
     "output_type": "stream",
     "text": [
      "DecisionTree.confusion_matrix(y_test, ŷ) = Classes:  [\"Iris-setosa\", \"Iris-versicolor\", \"Iris-virginica\"]\n",
      "Matrix:   \n",
      "Accuracy: 0.9210526315789473\n",
      "Kappa:    0.88\n"
     ]
    },
    {
     "data": {
      "text/plain": [
       "38×3 Matrix{Float64}:\n",
       " 0.613395  0.386605  0.0\n",
       " 0.613395  0.386605  0.0\n",
       " 0.613395  0.386605  0.0\n",
       " 0.613395  0.386605  0.0\n",
       " 0.613395  0.386605  0.0\n",
       " 0.613395  0.386605  0.0\n",
       " 0.613395  0.339775  0.0468293\n",
       " 0.613395  0.339775  0.0468293\n",
       " 0.613395  0.339775  0.0468293\n",
       " 0.613395  0.339775  0.0468293\n",
       " 0.613395  0.339775  0.0468293\n",
       " 0.613395  0.339775  0.0468293\n",
       " 0.0       0.614547  0.385453\n",
       " ⋮                   \n",
       " 0.0       0.36444   0.63556\n",
       " 0.0       0.320196  0.679804\n",
       " 0.0       0.320196  0.679804\n",
       " 0.0       0.320196  0.679804\n",
       " 0.0       0.320196  0.679804\n",
       " 0.0       0.320196  0.679804\n",
       " 0.0       0.320196  0.679804\n",
       " 0.0       0.320196  0.679804\n",
       " 0.0       0.320196  0.679804\n",
       " 0.0       0.320196  0.679804\n",
       " 0.0       0.320196  0.679804\n",
       " 0.0       0.320196  0.679804"
      ]
     },
     "execution_count": 11,
     "metadata": {},
     "output_type": "execute_result"
    }
   ],
   "source": [
    "model2 = AdaBoostStumpClassifier(n_iterations = 20);\n",
    "fit!(model2, X_train, y_train)\n",
    "#making predicitions\n",
    "ŷ = predict(model2, X_test)\n",
    "#checking accuracy \n",
    "accuracy1 = mean(y_test .== ŷ)\n",
    "#confusion matrix\n",
    "@show DecisionTree.confusion_matrix(y_test, ŷ)\n",
    "#checking the probability\n",
    "prob1 = predict_proba(model2, sort(X_test, dims = 1))\n"
   ]
  },
  {
   "cell_type": "markdown",
   "metadata": {},
   "source": [
    "## Using SKlearn with PyCall"
   ]
  },
  {
   "cell_type": "code",
   "execution_count": 12,
   "metadata": {},
   "outputs": [],
   "source": [
    "using MLBase"
   ]
  },
  {
   "cell_type": "code",
   "execution_count": 13,
   "metadata": {},
   "outputs": [],
   "source": [
    "LabelMap = labelmap(DF[:,5])\n",
    "y_train1 = labelencode(LabelMap, y_train)\n",
    "y_test1 = labelencode(LabelMap, y_test);\n"
   ]
  },
  {
   "cell_type": "code",
   "execution_count": 14,
   "metadata": {},
   "outputs": [
    {
     "data": {
      "text/plain": [
       "PyObject <module 'joblib' from 'C:\\\\Users\\\\PC\\\\.julia\\\\conda\\\\3\\\\lib\\\\site-packages\\\\joblib\\\\__init__.py'>"
      ]
     },
     "execution_count": 14,
     "metadata": {},
     "output_type": "execute_result"
    }
   ],
   "source": [
    "np = pyimport(\"numpy\")\n",
    "skl = pyimport(\"sklearn\")\n",
    "ModelEnsemble = pyimport(\"sklearn.ensemble\")\n",
    "SklMtr = pyimport(\"sklearn.metrics\")\n",
    "jol = pyimport(\"joblib\")"
   ]
  },
  {
   "cell_type": "code",
   "execution_count": 15,
   "metadata": {},
   "outputs": [
    {
     "data": {
      "text/plain": [
       "3×3 Matrix{Int64}:\n",
       " 12  0   0\n",
       "  0  9   2\n",
       "  0  1  14"
      ]
     },
     "execution_count": 15,
     "metadata": {},
     "output_type": "execute_result"
    }
   ],
   "source": [
    "model3 = ModelEnsemble.RandomForestClassifier()\n",
    "model3.fit(X_train,y_train1)\n",
    "y_pred = model3.predict(X_test)\n",
    "model3.score(X_test,y_test1)\n",
    "SklMtr.confusion_matrix(y_test1, y_pred)"
   ]
  },
  {
   "cell_type": "markdown",
   "metadata": {},
   "source": [
    "Saving model3"
   ]
  },
  {
   "cell_type": "code",
   "execution_count": 16,
   "metadata": {},
   "outputs": [
    {
     "data": {
      "text/plain": [
       "1-element Vector{String}:\n",
       " \"IrisDetection.joblib\""
      ]
     },
     "execution_count": 16,
     "metadata": {},
     "output_type": "execute_result"
    }
   ],
   "source": [
    "joblib_file = \"IrisDetection.joblib\"\n",
    "jol.dump(model3, joblib_file)"
   ]
  },
  {
   "cell_type": "code",
   "execution_count": 21,
   "metadata": {},
   "outputs": [
    {
     "name": "stderr",
     "output_type": "stream",
     "text": [
      "\u001b[32m\u001b[1m   Resolving\u001b[22m\u001b[39m package versions...\n",
      "\u001b[32m\u001b[1m  No Changes\u001b[22m\u001b[39m to `C:\\Users\\PC\\.julia\\environments\\v1.7\\Project.toml`\n",
      "\u001b[32m\u001b[1m  No Changes\u001b[22m\u001b[39m to `C:\\Users\\PC\\.julia\\environments\\v1.7\\Manifest.toml`\n"
     ]
    }
   ],
   "source": [
    "using JLD2, Pkg\n",
    "Pkg.add(\"Genie\")"
   ]
  },
  {
   "cell_type": "code",
   "execution_count": 20,
   "metadata": {},
   "outputs": [],
   "source": [
    "@save \"mdl.jld2\" model2"
   ]
  },
  {
   "cell_type": "code",
   "execution_count": 23,
   "metadata": {},
   "outputs": [
    {
     "name": "stderr",
     "output_type": "stream",
     "text": [
      "\u001b[32m\u001b[1m    Updating\u001b[22m\u001b[39m registry at `C:\\Users\\PC\\.julia\\registries\\General.toml`\n",
      "\u001b[32m\u001b[1m  No Changes\u001b[22m\u001b[39m to `C:\\Users\\PC\\.julia\\environments\\v1.7\\Project.toml`\n",
      "\u001b[32m\u001b[1m  No Changes\u001b[22m\u001b[39m to `C:\\Users\\PC\\.julia\\environments\\v1.7\\Manifest.toml`\n",
      "┌ Info: We haven't cleaned this depot up for a bit, running Pkg.gc()...\n",
      "└ @ Pkg C:\\buildbot\\worker\\package_win64\\build\\usr\\share\\julia\\stdlib\\v1.7\\Pkg\\src\\Pkg.jl:639\n",
      "\u001b[32m\u001b[1m      Active\u001b[22m\u001b[39m manifest files: 2 found\n",
      "\u001b[32m\u001b[1m      Active\u001b[22m\u001b[39m artifact files: 105 found\n",
      "\u001b[32m\u001b[1m      Active\u001b[22m\u001b[39m scratchspaces: 9 found\n",
      "\u001b[32m\u001b[1m     Deleted\u001b[22m\u001b[39m no artifacts, repos, packages or scratchspaces\n"
     ]
    }
   ],
   "source": [
    "using Genie\n",
    "using Pkg\n",
    "Pkg.update(\"Genie\")"
   ]
  },
  {
   "cell_type": "code",
   "execution_count": 25,
   "metadata": {},
   "outputs": [
    {
     "ename": "LoadError",
     "evalue": "UndefVarError: newapp_webservice not defined",
     "output_type": "error",
     "traceback": [
      "UndefVarError: newapp_webservice not defined",
      "",
      "Stacktrace:",
      " [1] top-level scope",
      "   @ In[25]:1",
      " [2] eval",
      "   @ .\\boot.jl:373 [inlined]",
      " [3] include_string(mapexpr::typeof(REPL.softscope), mod::Module, code::String, filename::String)",
      "   @ Base .\\loading.jl:1196"
     ]
    }
   ],
   "source": [
    "newapp_webservice(\"IrisDetector\")"
   ]
  }
 ],
 "metadata": {
  "kernelspec": {
   "display_name": "Julia 1.7.2",
   "language": "julia",
   "name": "julia-1.7"
  },
  "language_info": {
   "file_extension": ".jl",
   "mimetype": "application/julia",
   "name": "julia",
   "version": "1.7.2"
  },
  "orig_nbformat": 4
 },
 "nbformat": 4,
 "nbformat_minor": 2
}
