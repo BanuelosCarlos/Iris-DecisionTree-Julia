{
 "cells": [
  {
   "cell_type": "markdown",
   "metadata": {},
   "source": [
    "# iris CART using DecisionTree.jl\n",
    "Loading packages that we will use"
   ]
  },
  {
   "cell_type": "code",
   "execution_count": 1,
   "metadata": {},
   "outputs": [],
   "source": [
    "using DecisionTree\n",
    "using Random, Statistics\n",
    "using DataFrames"
   ]
  },
  {
   "cell_type": "markdown",
   "metadata": {},
   "source": [
    "Loading Data (Iris dataset)"
   ]
  },
  {
   "cell_type": "code",
   "execution_count": 17,
   "metadata": {},
   "outputs": [],
   "source": [
    "X, y = load_data(\"iris\")\n",
    "DF1 = DataFrame(X, :auto)\n",
    "DF2 = DataFrame(\"Type\" => y )\n",
    "DF = DataFrame(x1 = float.(DF1[!,1]),\n",
    "x2 = float.(DF1[!,2]),\n",
    "x3 = float.(DF1[!,3]),\n",
    "x4 = float.(DF1[!,4]),\n",
    "y = string.(DF2[!,1]));\n",
    "Matrix(DF[!,1:4]);\n"
   ]
  },
  {
   "cell_type": "markdown",
   "metadata": {},
   "source": [
    "Now using pycall to split data into training and testing sets"
   ]
  },
  {
   "cell_type": "code",
   "execution_count": 18,
   "metadata": {},
   "outputs": [],
   "source": [
    "using PyCall\n",
    "ModelSelection = pyimport(\"sklearn.model_selection\")\n",
    "X_train, X_test, y_train, y_test =\n",
    " ModelSelection.train_test_split(Matrix(DF[!,1:4]),DF[!,5]);"
   ]
  },
  {
   "cell_type": "markdown",
   "metadata": {},
   "source": [
    "Decision Tree"
   ]
  },
  {
   "cell_type": "code",
   "execution_count": 26,
   "metadata": {},
   "outputs": [
    {
     "name": "stdout",
     "output_type": "stream",
     "text": [
      "Feature 4 < 0.8 ?\n",
      "├─ Iris-setosa : 40/40\n",
      "└─ Feature 3 < 4.75 ?\n",
      "    ├─ Iris-versicolor : 35/36\n",
      "    └─ Iris-virginica : 32/36\n"
     ]
    }
   ],
   "source": [
    "model = DecisionTreeClassifier(max_depth = 2);\n",
    "fit!(model, X_train, y_train);\n",
    "#Printting the tree\n",
    "print_tree(model)"
   ]
  },
  {
   "cell_type": "code",
   "execution_count": 43,
   "metadata": {},
   "outputs": [],
   "source": [
    "train = [X_train y_train]\n",
    "# view decision node data subset\n",
    "\n",
    "train_R = train[train[:, 4] .> 0.8, :];\n"
   ]
  },
  {
   "cell_type": "markdown",
   "metadata": {},
   "source": [
    "Ready to make some predictions"
   ]
  },
  {
   "cell_type": "code",
   "execution_count": 47,
   "metadata": {},
   "outputs": [
    {
     "data": {
      "text/plain": [
       "0.9473684210526315"
      ]
     },
     "execution_count": 47,
     "metadata": {},
     "output_type": "execute_result"
    }
   ],
   "source": [
    "y_hat = predict(model, X_test)\n",
    "#and checking the accuracy\n",
    "accuracy = mean(y_hat .== y_test)"
   ]
  }
 ],
 "metadata": {
  "kernelspec": {
   "display_name": "Julia 1.7.2",
   "language": "julia",
   "name": "julia-1.7"
  },
  "language_info": {
   "file_extension": ".jl",
   "mimetype": "application/julia",
   "name": "julia",
   "version": "1.7.2"
  },
  "orig_nbformat": 4
 },
 "nbformat": 4,
 "nbformat_minor": 2
}
