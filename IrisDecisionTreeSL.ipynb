{
 "cells": [
  {
   "cell_type": "markdown",
   "metadata": {},
   "source": [
    "# iris CART using DecisionTree.jl\n",
    "Loading packages that we will use"
   ]
  },
  {
   "cell_type": "code",
   "execution_count": 1,
   "metadata": {},
   "outputs": [],
   "source": [
    "using DecisionTree\n",
    "using Random, Statistics\n",
    "using DataFrames"
   ]
  },
  {
   "cell_type": "markdown",
   "metadata": {},
   "source": [
    "Loading Data (Iris dataset)"
   ]
  },
  {
   "cell_type": "code",
   "execution_count": 2,
   "metadata": {},
   "outputs": [],
   "source": [
    "X, y = load_data(\"iris\")\n",
    "DF1 = DataFrame(X, :auto)\n",
    "DF2 = DataFrame(\"Type\" => y )\n",
    "DF = DataFrame(x1 = float.(DF1[!,1]),\n",
    "x2 = float.(DF1[!,2]),\n",
    "x3 = float.(DF1[!,3]),\n",
    "x4 = float.(DF1[!,4]),\n",
    "y = string.(DF2[!,1]));\n",
    "Matrix(DF[!,1:4]);\n"
   ]
  },
  {
   "cell_type": "markdown",
   "metadata": {},
   "source": [
    "Now using pycall to split data into training and testing sets"
   ]
  },
  {
   "cell_type": "code",
   "execution_count": 72,
   "metadata": {},
   "outputs": [],
   "source": [
    "using PyCall\n",
    "ModelSelection = pyimport(\"sklearn.model_selection\")\n",
    "X_train, X_test, y_train, y_test =\n",
    " ModelSelection.train_test_split(Matrix(DF[!,1:4]),DF[!,5]);"
   ]
  },
  {
   "cell_type": "markdown",
   "metadata": {},
   "source": [
    "Decision Tree"
   ]
  },
  {
   "cell_type": "code",
   "execution_count": 4,
   "metadata": {},
   "outputs": [
    {
     "name": "stdout",
     "output_type": "stream",
     "text": [
      "Feature 3 < 2.45 ?\n",
      "├─ Iris-setosa : 34/34\n",
      "└─ Feature 3 < 4.85 ?\n",
      "    ├─ Iris-versicolor : 36/37\n",
      "    └─ Iris-virginica : 39/41\n"
     ]
    }
   ],
   "source": [
    "model = DecisionTreeClassifier(max_depth = 2);\n",
    "fit!(model, X_train, y_train);\n",
    "#Printting the tree\n",
    "print_tree(model)"
   ]
  },
  {
   "cell_type": "code",
   "execution_count": 5,
   "metadata": {},
   "outputs": [],
   "source": [
    "train = [X_train y_train]\n",
    "# view decision node data subset\n",
    "\n",
    "train_R = train[train[:, 4] .> 0.8, :];\n"
   ]
  },
  {
   "cell_type": "markdown",
   "metadata": {},
   "source": [
    "Ready to make some predictions"
   ]
  },
  {
   "cell_type": "code",
   "execution_count": 6,
   "metadata": {},
   "outputs": [
    {
     "data": {
      "text/plain": [
       "0.8947368421052632"
      ]
     },
     "execution_count": 6,
     "metadata": {},
     "output_type": "execute_result"
    }
   ],
   "source": [
    "y_hat = predict(model, X_test)\n",
    "#and checking the accuracy\n",
    "accuracy = mean(y_hat .== y_test)"
   ]
  },
  {
   "cell_type": "markdown",
   "metadata": {},
   "source": [
    "Let's see where the model get confussed"
   ]
  },
  {
   "cell_type": "code",
   "execution_count": 8,
   "metadata": {},
   "outputs": [
    {
     "data": {
      "text/plain": [
       "3×3 Matrix{Int64}:\n",
       " 16   0  0\n",
       "  0  10  2\n",
       "  0   2  8"
      ]
     },
     "metadata": {},
     "output_type": "display_data"
    },
    {
     "data": {
      "text/plain": [
       "Classes:  [\"Iris-setosa\", \"Iris-versicolor\", \"Iris-virginica\"]\n",
       "Matrix:   \n",
       "Accuracy: 0.8947368421052632\n",
       "Kappa:    0.8389830508474576"
      ]
     },
     "execution_count": 8,
     "metadata": {},
     "output_type": "execute_result"
    }
   ],
   "source": [
    "DecisionTree.confusion_matrix(y_test,y_hat)"
   ]
  },
  {
   "cell_type": "markdown",
   "metadata": {},
   "source": [
    "Display results"
   ]
  },
  {
   "cell_type": "code",
   "execution_count": 13,
   "metadata": {},
   "outputs": [
    {
     "data": {
      "text/plain": [
       "38×3 Matrix{Any}:\n",
       " \"Iris-virginica\"   \"Iris-virginica\"    true\n",
       " \"Iris-setosa\"      \"Iris-setosa\"       true\n",
       " \"Iris-setosa\"      \"Iris-setosa\"       true\n",
       " \"Iris-setosa\"      \"Iris-setosa\"       true\n",
       " \"Iris-versicolor\"  \"Iris-versicolor\"   true\n",
       " \"Iris-setosa\"      \"Iris-setosa\"       true\n",
       " \"Iris-setosa\"      \"Iris-setosa\"       true\n",
       " \"Iris-versicolor\"  \"Iris-versicolor\"   true\n",
       " \"Iris-versicolor\"  \"Iris-versicolor\"   true\n",
       " \"Iris-versicolor\"  \"Iris-versicolor\"   true\n",
       " \"Iris-virginica\"   \"Iris-versicolor\"  false\n",
       " \"Iris-setosa\"      \"Iris-setosa\"       true\n",
       " \"Iris-setosa\"      \"Iris-setosa\"       true\n",
       " ⋮                                     \n",
       " \"Iris-virginica\"   \"Iris-virginica\"    true\n",
       " \"Iris-setosa\"      \"Iris-setosa\"       true\n",
       " \"Iris-virginica\"   \"Iris-virginica\"    true\n",
       " \"Iris-setosa\"      \"Iris-setosa\"       true\n",
       " \"Iris-setosa\"      \"Iris-setosa\"       true\n",
       " \"Iris-versicolor\"  \"Iris-versicolor\"   true\n",
       " \"Iris-versicolor\"  \"Iris-versicolor\"   true\n",
       " \"Iris-setosa\"      \"Iris-setosa\"       true\n",
       " \"Iris-virginica\"   \"Iris-virginica\"    true\n",
       " \"Iris-versicolor\"  \"Iris-versicolor\"   true\n",
       " \"Iris-setosa\"      \"Iris-setosa\"       true\n",
       " \"Iris-virginica\"   \"Iris-virginica\"    true"
      ]
     },
     "execution_count": 13,
     "metadata": {},
     "output_type": "execute_result"
    }
   ],
   "source": [
    "check = [y_hat[i] == y_test[i] for i in 1:length(y_hat)]\n",
    "check_display = [y_hat y_test check]"
   ]
  },
  {
   "cell_type": "markdown",
   "metadata": {},
   "source": [
    "Display probability of each prediction"
   ]
  },
  {
   "cell_type": "code",
   "execution_count": 20,
   "metadata": {},
   "outputs": [
    {
     "data": {
      "text/plain": [
       "38×3 Matrix{Float64}:\n",
       " 1.0  0.0        0.0\n",
       " 1.0  0.0        0.0\n",
       " 1.0  0.0        0.0\n",
       " 1.0  0.0        0.0\n",
       " 1.0  0.0        0.0\n",
       " 1.0  0.0        0.0\n",
       " 1.0  0.0        0.0\n",
       " 1.0  0.0        0.0\n",
       " 1.0  0.0        0.0\n",
       " 1.0  0.0        0.0\n",
       " 1.0  0.0        0.0\n",
       " 1.0  0.0        0.0\n",
       " 1.0  0.0        0.0\n",
       " ⋮               \n",
       " 0.0  0.972973   0.027027\n",
       " 0.0  0.972973   0.027027\n",
       " 0.0  0.0487805  0.95122\n",
       " 0.0  0.0487805  0.95122\n",
       " 0.0  0.0487805  0.95122\n",
       " 0.0  0.0487805  0.95122\n",
       " 0.0  0.0487805  0.95122\n",
       " 0.0  0.0487805  0.95122\n",
       " 0.0  0.0487805  0.95122\n",
       " 0.0  0.0487805  0.95122\n",
       " 0.0  0.0487805  0.95122\n",
       " 0.0  0.0487805  0.95122"
      ]
     },
     "metadata": {},
     "output_type": "display_data"
    }
   ],
   "source": [
    "prob = predict_proba(model, sort(X_test,dims = 1))\n",
    "display(prob)"
   ]
  },
  {
   "cell_type": "markdown",
   "metadata": {},
   "source": [
    "We can improve our predicition but it will come with the Bias-variance tradeoff.\\\n",
    "Ensemble learning for improve decision tree,they are two different techniques, one is Bagging, the other is Boosting.  "
   ]
  },
  {
   "cell_type": "markdown",
   "metadata": {},
   "source": [
    "## Random Forest\n",
    "Example of the Bagging technique, it reduces the variance of the model (Increase independecy of the features or Increase number of models) but you get slightly higher bias."
   ]
  },
  {
   "cell_type": "code",
   "execution_count": 57,
   "metadata": {},
   "outputs": [
    {
     "data": {
      "text/plain": [
       "3×3 Matrix{Int64}:\n",
       " 16   0  0\n",
       "  0  10  2\n",
       "  0   1  9"
      ]
     },
     "metadata": {},
     "output_type": "display_data"
    },
    {
     "name": "stdout",
     "output_type": "stream",
     "text": [
      "DecisionTree.confusion_matrix(y_test, ŷ) = Classes:  [\"Iris-setosa\", \"Iris-versicolor\", \"Iris-virginica\"]\n",
      "Matrix:   \n",
      "Accuracy: 0.9210526315789473\n",
      "Kappa:    0.879492600422833\n"
     ]
    },
    {
     "data": {
      "text/plain": [
       "38×3 Matrix{Float64}:\n",
       " 1.0  0.0   0.0\n",
       " 1.0  0.0   0.0\n",
       " 1.0  0.0   0.0\n",
       " 1.0  0.0   0.0\n",
       " 1.0  0.0   0.0\n",
       " 1.0  0.0   0.0\n",
       " 1.0  0.0   0.0\n",
       " 1.0  0.0   0.0\n",
       " 1.0  0.0   0.0\n",
       " 1.0  0.0   0.0\n",
       " 1.0  0.0   0.0\n",
       " 1.0  0.0   0.0\n",
       " 1.0  0.0   0.0\n",
       " ⋮          \n",
       " 0.0  1.0   0.0\n",
       " 0.0  0.55  0.45\n",
       " 0.0  0.1   0.9\n",
       " 0.0  0.0   1.0\n",
       " 0.0  0.0   1.0\n",
       " 0.0  0.0   1.0\n",
       " 0.0  0.0   1.0\n",
       " 0.0  0.0   1.0\n",
       " 0.0  0.0   1.0\n",
       " 0.0  0.0   1.0\n",
       " 0.0  0.0   1.0\n",
       " 0.0  0.0   1.0"
      ]
     },
     "execution_count": 57,
     "metadata": {},
     "output_type": "execute_result"
    }
   ],
   "source": [
    "#Creating a random forest with 20 trees\n",
    "model1 = RandomForestClassifier(n_trees = 20);\n",
    "fit!(model1, X_train, y_train)\n",
    "#making predicitions\n",
    "ŷ = predict(model1, X_test)\n",
    "#checking accuracy \n",
    "accuracy1 = mean(y_test .== ŷ)\n",
    "#confusion matrix\n",
    "@show DecisionTree.confusion_matrix(y_test, ŷ)\n",
    "#checking the probability\n",
    "prob1 = predict_proba(model1, sort(X_test, dims = 1))"
   ]
  },
  {
   "cell_type": "markdown",
   "metadata": {},
   "source": [
    "## AdaBoost\n",
    "Technique of Boosting in ensemble learning where usually lower the bias"
   ]
  },
  {
   "cell_type": "code",
   "execution_count": 58,
   "metadata": {},
   "outputs": [
    {
     "data": {
      "text/plain": [
       "3×3 Matrix{Int64}:\n",
       " 16   0   0\n",
       "  0  11   1\n",
       "  0   0  10"
      ]
     },
     "metadata": {},
     "output_type": "display_data"
    },
    {
     "name": "stdout",
     "output_type": "stream",
     "text": [
      "DecisionTree.confusion_matrix(y_test, ŷ) = Classes:  [\"Iris-setosa\", \"Iris-versicolor\", \"Iris-virginica\"]\n",
      "Matrix:   \n",
      "Accuracy: 0.9736842105263158\n",
      "Kappa:    0.9598308668076109\n"
     ]
    },
    {
     "data": {
      "text/plain": [
       "38×3 Matrix{Float64}:\n",
       " 0.611055  0.29135   0.0975955\n",
       " 0.611055  0.338964  0.0499806\n",
       " 0.611055  0.338964  0.0499806\n",
       " 0.611055  0.338964  0.0499806\n",
       " 0.611055  0.338964  0.0499806\n",
       " 0.611055  0.338964  0.0499806\n",
       " 0.611055  0.338964  0.0499806\n",
       " 0.611055  0.338964  0.0499806\n",
       " 0.611055  0.338964  0.0499806\n",
       " 0.611055  0.338964  0.0499806\n",
       " 0.611055  0.338964  0.0499806\n",
       " 0.611055  0.338964  0.0499806\n",
       " 0.611055  0.338964  0.0499806\n",
       " ⋮                   \n",
       " 0.0       0.61114   0.38886\n",
       " 0.0       0.49819   0.50181\n",
       " 0.0       0.462856  0.537144\n",
       " 0.0       0.400216  0.599784\n",
       " 0.0       0.400216  0.599784\n",
       " 0.0       0.355856  0.644144\n",
       " 0.0       0.355856  0.644144\n",
       " 0.0       0.355856  0.644144\n",
       " 0.0       0.355856  0.644144\n",
       " 0.0       0.355856  0.644144\n",
       " 0.0       0.355856  0.644144\n",
       " 0.0       0.355856  0.644144"
      ]
     },
     "execution_count": 58,
     "metadata": {},
     "output_type": "execute_result"
    }
   ],
   "source": [
    "model2 = AdaBoostStumpClassifier(n_iterations = 20);\n",
    "fit!(model2, X_train, y_train)\n",
    "#making predicitions\n",
    "ŷ = predict(model2, X_test)\n",
    "#checking accuracy \n",
    "accuracy1 = mean(y_test .== ŷ)\n",
    "#confusion matrix\n",
    "@show DecisionTree.confusion_matrix(y_test, ŷ)\n",
    "#checking the probability\n",
    "prob1 = predict_proba(model2, sort(X_test, dims = 1))\n"
   ]
  },
  {
   "cell_type": "markdown",
   "metadata": {},
   "source": [
    "## Using SKlearn with PyCall"
   ]
  },
  {
   "cell_type": "code",
   "execution_count": 59,
   "metadata": {},
   "outputs": [],
   "source": [
    "using MLBase"
   ]
  },
  {
   "cell_type": "code",
   "execution_count": 75,
   "metadata": {},
   "outputs": [],
   "source": [
    "LabelMap = labelmap(DF[:,5])\n",
    "y_train1 = labelencode(LabelMap, y_train)\n",
    "y_test1 = labelencode(LabelMap, y_test);\n"
   ]
  },
  {
   "cell_type": "code",
   "execution_count": 93,
   "metadata": {},
   "outputs": [
    {
     "data": {
      "text/plain": [
       "PyObject <module 'joblib' from 'C:\\\\Users\\\\PC\\\\.julia\\\\conda\\\\3\\\\lib\\\\site-packages\\\\joblib\\\\__init__.py'>"
      ]
     },
     "execution_count": 93,
     "metadata": {},
     "output_type": "execute_result"
    }
   ],
   "source": [
    "np = pyimport(\"numpy\")\n",
    "skl = pyimport(\"sklearn\")\n",
    "ModelEnsemble = pyimport(\"sklearn.ensemble\")\n",
    "SklMtr = pyimport(\"sklearn.metrics\")\n",
    "jol = pyimport(\"joblib\")"
   ]
  },
  {
   "cell_type": "code",
   "execution_count": 92,
   "metadata": {},
   "outputs": [
    {
     "data": {
      "text/plain": [
       "3×3 Matrix{Int64}:\n",
       " 16   0  0\n",
       "  0  11  1\n",
       "  0   1  9"
      ]
     },
     "execution_count": 92,
     "metadata": {},
     "output_type": "execute_result"
    }
   ],
   "source": [
    "model3 = ModelEnsemble.RandomForestClassifier()\n",
    "model3.fit(X_train,y_train1)\n",
    "y_pred = model3.predict(X_test)\n",
    "model3.score(X_test,y_test1)\n",
    "SklMtr.confusion_matrix(y_test1, y_pred)"
   ]
  },
  {
   "cell_type": "markdown",
   "metadata": {},
   "source": [
    "Saving model3"
   ]
  },
  {
   "cell_type": "code",
   "execution_count": 96,
   "metadata": {},
   "outputs": [
    {
     "data": {
      "text/plain": [
       "1-element Vector{String}:\n",
       " \"IrisDetection.joblib\""
      ]
     },
     "execution_count": 96,
     "metadata": {},
     "output_type": "execute_result"
    }
   ],
   "source": [
    "joblib_file = \"IrisDetection.joblib\"\n",
    "jol.dump(model3, joblib_file)"
   ]
  }
 ],
 "metadata": {
  "kernelspec": {
   "display_name": "Julia 1.7.2",
   "language": "julia",
   "name": "julia-1.7"
  },
  "language_info": {
   "file_extension": ".jl",
   "mimetype": "application/julia",
   "name": "julia",
   "version": "1.7.2"
  },
  "orig_nbformat": 4
 },
 "nbformat": 4,
 "nbformat_minor": 2
}
